{
 "cells": [
  {
   "cell_type": "code",
   "execution_count": 1,
   "metadata": {},
   "outputs": [],
   "source": [
    "%matplotlib inline \n",
    "%load_ext autoreload\n",
    "%autoreload 2\n",
    "%config InlineBackend.figure_format = 'retina' # I use a HiDPI screen"
   ]
  },
  {
   "cell_type": "code",
   "execution_count": 2,
   "metadata": {},
   "outputs": [],
   "source": [
    "from plot_derived_parameters.plot_function import *"
   ]
  },
  {
   "cell_type": "code",
   "execution_count": 3,
   "metadata": {},
   "outputs": [
    {
     "name": "stderr",
     "output_type": "stream",
     "text": [
      "/home/zequnl/anaconda3/lib/python3.6/site-packages/astropy/table/table.py:2622: FutureWarning: elementwise == comparison failed and returning scalar instead; this will raise an error or perform elementwise comparison in the future.\n",
      "  result = self.as_array() == other\n"
     ]
    }
   ],
   "source": [
    "# load in the data\n",
    "chainLocation = \"analysis/chains/\"\n",
    "planck2015Data = loadChainFolder( 'plot_derived_parameters/chains/CDI_2/' )"
   ]
  },
  {
   "cell_type": "code",
   "execution_count": 4,
   "metadata": {},
   "outputs": [
    {
     "data": {
      "text/plain": [
       "['acceptance',\n",
       " 'likelihood',\n",
       " 'omega_b',\n",
       " 'omega_cdm',\n",
       " '100theta_s',\n",
       " 'tau_reio',\n",
       " 'P_{RR}^1',\n",
       " 'P_{RR}^2',\n",
       " 'P_{II}^1',\n",
       " 'P_{II}^2',\n",
       " 'P_{RI}^1',\n",
       " 'A_planck']"
      ]
     },
     "execution_count": 4,
     "metadata": {},
     "output_type": "execute_result"
    }
   ],
   "source": [
    "# take a look at what is in this table\n",
    "planck2015Data.colnames"
   ]
  },
  {
   "cell_type": "code",
   "execution_count": 18,
   "metadata": {},
   "outputs": [
    {
     "data": {
      "text/plain": [
       "<matplotlib.legend.Legend at 0x7fd1b878d4a8>"
      ]
     },
     "execution_count": 18,
     "metadata": {},
     "output_type": "execute_result"
    },
    {
     "data": {
      "image/png": "[encoded data removed]",
      "text/plain": [
       "<Figure size 432x288 with 1 Axes>"
      ]
     },
     "metadata": {
      "image/png": {
       "height": 311,
       "width": 428
      },
      "needs_background": "light"
     },
     "output_type": "display_data"
    }
   ],
   "source": [
    "# determine 95% percentile isocurvature power \n",
    "# (I'm using P_II^2, you could use some other choice)\n",
    "quantity = planck2015Data[\"P_{II}^2\"]\n",
    "plt.hist(quantity)\n",
    "upper_95 = np.percentile(quantity, 95)\n",
    "plt.xlabel(r\"$P_{II}^2$\")\n",
    "plt.axvline(upper_95, color=\"red\", label=\"95%\")\n",
    "plt.legend()\n",
    "# plt.yscale(\"log\")"
   ]
  },
  {
   "cell_type": "code",
   "execution_count": 19,
   "metadata": {},
   "outputs": [
    {
     "data": {
      "text/html": [
       "<i>Row index=1492</i>\n",
       "<table id=\"table140538720027872\">\n",
       "<thead><tr><th>acceptance</th><th>likelihood</th><th>omega_b</th><th>omega_cdm</th><th>100theta_s</th><th>tau_reio</th><th>P_{RR}^1</th><th>P_{RR}^2</th><th>P_{II}^1</th><th>P_{II}^2</th><th>P_{RI}^1</th><th>A_planck</th></tr></thead>\n",
       "<thead><tr><th>int64</th><th>float64</th><th>float64</th><th>float64</th><th>float64</th><th>float64</th><th>float64</th><th>float64</th><th>float64</th><th>float64</th><th>float64</th><th>float64</th></tr></thead>\n",
       "<tr><td>27</td><td>5356.33</td><td>2.235234</td><td>0.1184131</td><td>1.041419</td><td>0.07000848</td><td>2.39496e-09</td><td>2.092462e-09</td><td>2.39416e-12</td><td>7.096496e-09</td><td>-4.217695e-12</td><td>100.0804</td></tr>\n",
       "</table>"
      ],
      "text/plain": [
       "<Row index=1492>\n",
       "acceptance likelihood omega_b  omega_cdm 100theta_s  tau_reio    P_{RR}^1    P_{RR}^2     P_{II}^1    P_{II}^2      P_{RI}^1   A_planck\n",
       "  int64     float64   float64   float64   float64    float64     float64     float64      float64     float64       float64    float64 \n",
       "---------- ---------- -------- --------- ---------- ---------- ----------- ------------ ----------- ------------ ------------- --------\n",
       "        27    5356.33 2.235234 0.1184131   1.041419 0.07000848 2.39496e-09 2.092462e-09 2.39416e-12 7.096496e-09 -4.217695e-12 100.0804"
      ]
     },
     "execution_count": 19,
     "metadata": {},
     "output_type": "execute_result"
    }
   ],
   "source": [
    "# filter by this large isocurvature fraction and get the maximum likelihood sample\n",
    "filtered = planck2015Data[quantity > upper_95]\n",
    "filtered[ np.argmax(-filtered[\"likelihood\"]) ]"
   ]
  },
  {
   "cell_type": "code",
   "execution_count": null,
   "metadata": {},
   "outputs": [],
   "source": []
  },
  {
   "cell_type": "code",
   "execution_count": null,
   "metadata": {},
   "outputs": [],
   "source": []
  }
 ],
 "metadata": {
  "kernelspec": {
   "display_name": "Python 3",
   "language": "python",
   "name": "python3"
  },
  "language_info": {
   "codemirror_mode": {
    "name": "ipython",
    "version": 3
   },
   "file_extension": ".py",
   "mimetype": "text/x-python",
   "name": "python",
   "nbconvert_exporter": "python",
   "pygments_lexer": "ipython3",
   "version": "3.6.6"
  }
 },
 "nbformat": 4,
 "nbformat_minor": 2
}
