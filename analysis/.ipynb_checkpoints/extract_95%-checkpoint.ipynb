{
 "cells": [
  {
   "cell_type": "code",
   "execution_count": 1,
   "metadata": {},
   "outputs": [],
   "source": [
    "%matplotlib inline \n",
    "%load_ext autoreload\n",
    "%autoreload 2\n",
    "%config InlineBackend.figure_format = 'retina' # I use a HiDPI screen"
   ]
  },
  {
   "cell_type": "code",
   "execution_count": 4,
   "metadata": {},
   "outputs": [],
   "source": [
    "from plot_derived_parameters.plot_function import *"
   ]
  },
  {
   "cell_type": "code",
   "execution_count": 8,
   "metadata": {},
   "outputs": [
    {
     "name": "stderr",
     "output_type": "stream",
     "text": [
      "/home/zequnl/anaconda3/lib/python3.6/site-packages/astropy/table/table.py:2622: FutureWarning: elementwise == comparison failed and returning scalar instead; this will raise an error or perform elementwise comparison in the future.\n",
      "  result = self.as_array() == other\n"
     ]
    }
   ],
   "source": [
    "chainLocation = \"analysis/chains/\"\n",
    "planck2015Data = loadChainFolder( 'plot_derived_parameters/chains/CDI_2/' )"
   ]
  },
  {
   "cell_type": "code",
   "execution_count": 10,
   "metadata": {},
   "outputs": [
    {
     "data": {
      "text/plain": [
       "['acceptance',\n",
       " 'likelihood',\n",
       " 'omega_b',\n",
       " 'omega_cdm',\n",
       " '100theta_s',\n",
       " 'tau_reio',\n",
       " 'P_{RR}^1',\n",
       " 'P_{RR}^2',\n",
       " 'P_{II}^1',\n",
       " 'P_{II}^2',\n",
       " 'P_{RI}^1',\n",
       " 'A_planck']"
      ]
     },
     "execution_count": 10,
     "metadata": {},
     "output_type": "execute_result"
    }
   ],
   "source": [
    "planck2015Data.colnames"
   ]
  },
  {
   "cell_type": "code",
   "execution_count": 27,
   "metadata": {},
   "outputs": [
    {
     "data": {
      "text/plain": [
       "<matplotlib.legend.Legend at 0x7f62f9f28e80>"
      ]
     },
     "execution_count": 27,
     "metadata": {},
     "output_type": "execute_result"
    },
    {
     "data": {
      "image/png": "[encoded data removed]",
      "text/plain": [
       "<Figure size 432x288 with 1 Axes>"
      ]
     },
     "metadata": {
      "image/png": {
       "height": 311,
       "width": 428
      },
      "needs_background": "light"
     },
     "output_type": "display_data"
    }
   ],
   "source": [
    "ratio = planck2015Data[\"P_{II}^2\"] / planck2015Data[\"P_{RR}^2\"]\n",
    "plt.hist(ratio)\n",
    "upper_95 = np.percentile(ratio, 95)\n",
    "plt.xlabel(r\"$P_{II}^2 / P_{II}^2$\")\n",
    "plt.axvline(upper_95, color=\"red\", label=\"95%\")\n",
    "plt.legend()"
   ]
  },
  {
   "cell_type": "code",
   "execution_count": 34,
   "metadata": {},
   "outputs": [
    {
     "data": {
      "text/html": [
       "<i>Row index=13918</i>\n",
       "<table id=\"table140063085269736\">\n",
       "<thead><tr><th>acceptance</th><th>likelihood</th><th>omega_b</th><th>omega_cdm</th><th>100theta_s</th><th>tau_reio</th><th>P_{RR}^1</th><th>P_{RR}^2</th><th>P_{II}^1</th><th>P_{II}^2</th><th>P_{RI}^1</th><th>A_planck</th></tr></thead>\n",
       "<thead><tr><th>int64</th><th>float64</th><th>float64</th><th>float64</th><th>float64</th><th>float64</th><th>float64</th><th>float64</th><th>float64</th><th>float64</th><th>float64</th><th>float64</th></tr></thead>\n",
       "<tr><td>26</td><td>5355.21</td><td>2.24304</td><td>0.1176825</td><td>1.04246</td><td>0.07316774</td><td>2.389152e-09</td><td>2.112843e-09</td><td>2.092056e-12</td><td>4.336194e-09</td><td>1.826445e-12</td><td>100.073</td></tr>\n",
       "</table>"
      ],
      "text/plain": [
       "<Row index=13918>\n",
       "acceptance likelihood omega_b omega_cdm 100theta_s  tau_reio    P_{RR}^1     P_{RR}^2     P_{II}^1     P_{II}^2     P_{RI}^1   A_planck\n",
       "  int64     float64   float64  float64   float64    float64     float64      float64      float64      float64      float64    float64 \n",
       "---------- ---------- ------- --------- ---------- ---------- ------------ ------------ ------------ ------------ ------------ --------\n",
       "        26    5355.21 2.24304 0.1176825    1.04246 0.07316774 2.389152e-09 2.112843e-09 2.092056e-12 4.336194e-09 1.826445e-12  100.073"
      ]
     },
     "execution_count": 34,
     "metadata": {},
     "output_type": "execute_result"
    }
   ],
   "source": [
    "planck2015Data[ np.argmax(-planck2015Data[\"likelihood\"]) ]"
   ]
  },
  {
   "cell_type": "code",
   "execution_count": null,
   "metadata": {},
   "outputs": [],
   "source": []
  },
  {
   "cell_type": "code",
   "execution_count": null,
   "metadata": {},
   "outputs": [],
   "source": []
  }
 ],
 "metadata": {
  "kernelspec": {
   "display_name": "Python 3",
   "language": "python",
   "name": "python3"
  },
  "language_info": {
   "codemirror_mode": {
    "name": "ipython",
    "version": 3
   },
   "file_extension": ".py",
   "mimetype": "text/x-python",
   "name": "python",
   "nbconvert_exporter": "python",
   "pygments_lexer": "ipython3",
   "version": "3.6.6"
  }
 },
 "nbformat": 4,
 "nbformat_minor": 2
}
